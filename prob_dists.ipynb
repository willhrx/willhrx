{
 "cells": [
  {
   "cell_type": "markdown",
   "id": "17f31ad3",
   "metadata": {},
   "source": [
    "# My one stop notebook for probability distributions\n",
    "\n",
    "I have decieded that it would be a helpful tool for myself to have a notebook file encompassing everything one might need to know about the most commonly used probability distributions. Here I intend to go through both continuous and discrete probability distributions one by one to talk about thier probability and density functions, as well as common use cases along with some visualisations.\n",
    "\n",
    "## Discrete Probability Distributions\n",
    "\n",
    "This class of distribuions describes the likelihood of different outcomes for a random variable that can only take a specific value or catagory, hence the use of the term discrete. They are described using a probability mass function (PMF) with function giving a probability for each possible outcome. I'll now show the most common discrete probability distributions.\n",
    "\n",
    "### The Binomial Distribution\n",
    "Written as $X \\sim \\text{Bin}(n, p)$ this distribution describes the probability of a random event of probability p occuring X times out of a possible n times."
   ]
  }
 ],
 "metadata": {
  "language_info": {
   "name": "python"
  }
 },
 "nbformat": 4,
 "nbformat_minor": 5
}
